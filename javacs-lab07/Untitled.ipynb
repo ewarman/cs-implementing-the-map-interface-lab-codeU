{
 "cells": [
  {
   "cell_type": "code",
   "execution_count": 88,
   "metadata": {
    "collapsed": false
   },
   "outputs": [
    {
     "name": "stdout",
     "output_type": "stream",
     "text": [
      "Counter({'-': 1, '*': 1})\n"
     ]
    }
   ],
   "source": [
    "import re\n",
    "from collections import Counter\n",
    "\n",
    "eqn = '16-4*2'\n",
    "numbers = '\\W+'\n",
    "symbols = '[a-zA-Z0-9_]'\n",
    "\n",
    "numList = re.split(numbers,eqn)\n",
    "opList = [x for x in re.split(symbols,eqn) if x!='']\n",
    "opFrequency = Counter(opList)\n",
    "precedence = ['-','/','+','*']\n",
    "print(opFrequency)"
   ]
  },
  {
   "cell_type": "code",
   "execution_count": 19,
   "metadata": {
    "collapsed": false
   },
   "outputs": [],
   "source": [
    "def subtract(a,b):\n",
    "    return int(a)-int(b)\n",
    "\n",
    "def add(a,b):\n",
    "    return int(a)+int(b)\n",
    "\n",
    "def multiply(a,b):\n",
    "    return int(a)*int(b)\n",
    "\n",
    "def divide(a,b):\n",
    "    return int(a)/int(b)"
   ]
  },
  {
   "cell_type": "code",
   "execution_count": 89,
   "metadata": {
    "collapsed": false
   },
   "outputs": [
    {
     "name": "stdout",
     "output_type": "stream",
     "text": [
      "['-', '*']\n",
      "['16', '4', '2']\n",
      "['*']\n",
      "[12, '2']\n",
      "24\n"
     ]
    }
   ],
   "source": [
    "\n",
    "for idx,op in enumerate(precedence):\n",
    "    for i in range(opFrequency[op]):\n",
    "        for idx,curOp in enumerate(opList):\n",
    "            if curOp == op:\n",
    "                print(opList)\n",
    "                print(numList)\n",
    "                newVal = 0\n",
    "                if op == '-':\n",
    "                    newVal = subtract(numList[idx],numList[idx+1])\n",
    "                if op == '/':\n",
    "                     newVal = divide(numList[idx],numList[idx+1])\n",
    "                if op == '+':\n",
    "                    newVal = add(numList[idx],numList[idx+1])\n",
    "                if op == '*':\n",
    "                    newVal = multiply(numList[idx],numList[idx+1])\n",
    "                numList[idx]=newVal\n",
    "                del(numList[idx+1])\n",
    "                del(opList[idx])\n",
    "                break\n",
    "    \n",
    "print(int(numList[0]))"
   ]
  },
  {
   "cell_type": "code",
   "execution_count": 111,
   "metadata": {
    "collapsed": false
   },
   "outputs": [
    {
     "name": "stdout",
     "output_type": "stream",
     "text": [
      "I fucking\n",
      "hate\n",
      "this\n",
      "whole goddamn\n",
      "thing \n",
      "\n"
     ]
    }
   ],
   "source": [
    "length = 5\n",
    "text = \"I fucking hate this whole goddamn thing\"\n",
    "\n",
    "text = text.split('~')\n",
    "output = \"\"\n",
    "for block in text:\n",
    "    if len(block) <= length:\n",
    "        output+= block+'\\n'\n",
    "    else:\n",
    "        bufferCount = 0\n",
    "        block = block.split(' ')\n",
    "        for word in block:\n",
    "            if len(word)>length:\n",
    "                output+=word+'\\n'\n",
    "            elif len(word)+1+bufferCount>length:\n",
    "                #wrap\n",
    "                output=output[:-1]+'\\n'\n",
    "                output+=word+' '\n",
    "                bufferCount = len(word)+1\n",
    "            else:\n",
    "                #add word at the end\n",
    "                output+=word+' '\n",
    "                bufferCount+=(len(word)+1)\n",
    "        output+='\\n'\n",
    "print(output)"
   ]
  }
 ],
 "metadata": {
  "kernelspec": {
   "display_name": "Python 3",
   "language": "python",
   "name": "python3"
  },
  "language_info": {
   "codemirror_mode": {
    "name": "ipython",
    "version": 3
   },
   "file_extension": ".py",
   "mimetype": "text/x-python",
   "name": "python",
   "nbconvert_exporter": "python",
   "pygments_lexer": "ipython3",
   "version": "3.5.1"
  }
 },
 "nbformat": 4,
 "nbformat_minor": 0
}
